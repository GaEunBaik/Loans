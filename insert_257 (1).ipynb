{
 "cells": [
  {
   "cell_type": "code",
   "execution_count": null,
   "id": "4a021011",
   "metadata": {},
   "outputs": [],
   "source": [
    "import re\n",
    "\n",
    "def remove_fifth_and_sixth_values(sql_insert):\n",
    "    \"\"\"SQL INSERT 문에서 5번째와 6번째 값을 제거합니다.\"\"\"\n",
    "    values_start = sql_insert.find(\"VALUES (\") + len(\"VALUES (\")\n",
    "    values_end = sql_insert.rfind(\")\")\n",
    "    values_string = sql_insert[values_start:values_end]\n",
    "    values = [v.strip() for v in values_string.split(\",\")]\n",
    "\n",
    "    # 5번째와 6번째 요소 제거 (인덱스는 0부터 시작하므로 4와 5)\n",
    "    del values[5]\n",
    "    del values[4]\n",
    "\n",
    "    new_values_string = \", \".join(values)\n",
    "    return sql_insert[:values_start] + new_values_string + sql_insert[values_end:]\n",
    "\n",
    "# 예시 SQL INSERT 문 리스트\n",
    "sql_inserts = [\n",
    "    \"insert into 회원 values('m10001',...,to_date('1996-12-25','yyyy-mm-dd'));\",\n",
    "    \"insert into 회원 values('m10257',...,to_date('2024-08-23','yyyy-mm-dd'));\"\n",
    "]\n",
    "\n",
    "\n",
    "# 각 SQL INSERT 문에 대해 함수 호출 및 결과 출력\n",
    "for sql_insert in sql_inserts:\n",
    "    cleaned_insert = remove_fifth_and_sixth_values(sql_insert)\n",
    "    print(cleaned_insert)"
   ]
  }
 ],
 "metadata": {
  "kernelspec": {
   "display_name": "Python 3 (ipykernel)",
   "language": "python",
   "name": "python3"
  },
  "language_info": {
   "codemirror_mode": {
    "name": "ipython",
    "version": 3
   },
   "file_extension": ".py",
   "mimetype": "text/x-python",
   "name": "python",
   "nbconvert_exporter": "python",
   "pygments_lexer": "ipython3",
   "version": "3.9.12"
  },
  "toc": {
   "base_numbering": 1,
   "nav_menu": {},
   "number_sections": true,
   "sideBar": true,
   "skip_h1_title": false,
   "title_cell": "Table of Contents",
   "title_sidebar": "Contents",
   "toc_cell": false,
   "toc_position": {},
   "toc_section_display": true,
   "toc_window_display": false
  }
 },
 "nbformat": 4,
 "nbformat_minor": 5
}
